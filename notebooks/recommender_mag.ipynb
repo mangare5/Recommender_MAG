{
 "cells": [
  {
   "cell_type": "markdown",
   "metadata": {},
   "source": [
    "# Libraries"
   ]
  },
  {
   "cell_type": "code",
   "execution_count": 2,
   "metadata": {},
   "outputs": [],
   "source": [
    "import pandas as pd\n",
    "import tensorflow as tf\n",
    "from tensorflow.keras.layers import (Dense, Embedding, Flatten, Input,\n",
    "                                     concatenate)\n",
    "from tensorflow.keras.models import Model"
   ]
  },
  {
   "cell_type": "markdown",
   "metadata": {},
   "source": []
  },
  {
   "cell_type": "code",
   "execution_count": 3,
   "metadata": {},
   "outputs": [],
   "source": [
    "def model_mlp(nu, ni):\n",
    "\n",
    "    user_input = Input(shape=(1,))\n",
    "    item_input = Input(shape=(1,))\n",
    "    MLP_Embedding_User = Embedding(nu,  12)\n",
    "    MLP_Embedding_Item = Embedding(ni, 12)   \n",
    "\n",
    "    user_latent = Flatten()(MLP_Embedding_User(user_input))\n",
    "    item_latent = Flatten()(MLP_Embedding_Item(item_input))\n",
    "\n",
    "    vect = concatenate([user_latent, item_latent], axis=-1)\n",
    "\n",
    "    layer_ = Dense(10, activation='relu')(vect)\n",
    "    layer_ = Dense(10, activation='relu')(vect)\n",
    "\n",
    "    prediction = Dense(1, activation='linear', name = 'prediction')(layer_)\n",
    "\n",
    "    model = Model(inputs=[user_input, item_input], \n",
    "                  outputs=prediction)\n",
    "\n",
    "    model.compile(optimizer=\"adam\", loss='mean_squared_error')"
   ]
  },
  {
   "cell_type": "code",
   "execution_count": 7,
   "metadata": {},
   "outputs": [
    {
     "ename": "AttributeError",
     "evalue": "'NoneType' object has no attribute 'fit'",
     "output_type": "error",
     "traceback": [
      "\u001b[0;31m---------------------------------------------------------------------------\u001b[0m",
      "\u001b[0;31mAttributeError\u001b[0m                            Traceback (most recent call last)",
      "\u001b[1;32m/workspaces/Recommender_MAG/notebooks/recommender_mag.ipynb Cell 5\u001b[0m in \u001b[0;36m<cell line: 1>\u001b[0;34m()\u001b[0m\n\u001b[1;32m      <a href='vscode-notebook-cell://dev-container%2B633a5c55736572735c4d6172695c4465736b746f705c4d61737465725f49415c4769745c456a65725f646f636b65725c5265636f6d6d656e6465725f4d4147/workspaces/Recommender_MAG/notebooks/recommender_mag.ipynb#ch0000004vscode-remote?line=1'>2</a>\u001b[0m r \u001b[39m=\u001b[39m pd\u001b[39m.\u001b[39mread_csv(\u001b[39m\"\u001b[39m\u001b[39m/workspaces/Recommender_MAG/data/ratings.csv\u001b[39m\u001b[39m\"\u001b[39m)\n\u001b[1;32m      <a href='vscode-notebook-cell://dev-container%2B633a5c55736572735c4d6172695c4465736b746f705c4d61737465725f49415c4769745c456a65725f646f636b65725c5265636f6d6d656e6465725f4d4147/workspaces/Recommender_MAG/notebooks/recommender_mag.ipynb#ch0000004vscode-remote?line=2'>3</a>\u001b[0m mod \u001b[39m=\u001b[39m model_mlp(\u001b[39m611\u001b[39m, \u001b[39m193610\u001b[39m)\n\u001b[0;32m----> <a href='vscode-notebook-cell://dev-container%2B633a5c55736572735c4d6172695c4465736b746f705c4d61737465725f49415c4769745c456a65725f646f636b65725c5265636f6d6d656e6465725f4d4147/workspaces/Recommender_MAG/notebooks/recommender_mag.ipynb#ch0000004vscode-remote?line=3'>4</a>\u001b[0m mod\u001b[39m.\u001b[39;49mfit([r\u001b[39m.\u001b[39muserId, r\u001b[39m.\u001b[39mmovieId], r\u001b[39m.\u001b[39mrating, validation_split\u001b[39m=\u001b[39m\u001b[39m0.2\u001b[39m, epochs\u001b[39m=\u001b[39m\u001b[39m100\u001b[39m)\n",
      "\u001b[0;31mAttributeError\u001b[0m: 'NoneType' object has no attribute 'fit'"
     ]
    }
   ],
   "source": [
    "if __name__ == '__main__':\n",
    "    r = pd.read_csv(\"/workspaces/Recommender_MAG/data/ratings.csv\")\n",
    "    mod = model_mlp(611, 193610)\n",
    "    mod.fit([r.userId, r.movieId], r.rating, validation_split=0.2, epochs=100)"
   ]
  },
  {
   "cell_type": "code",
   "execution_count": null,
   "metadata": {},
   "outputs": [],
   "source": []
  }
 ],
 "metadata": {
  "kernelspec": {
   "display_name": "Python 3.8.10 64-bit",
   "language": "python",
   "name": "python3"
  },
  "language_info": {
   "codemirror_mode": {
    "name": "ipython",
    "version": 3
   },
   "file_extension": ".py",
   "mimetype": "text/x-python",
   "name": "python",
   "nbconvert_exporter": "python",
   "pygments_lexer": "ipython3",
   "version": "3.8.10"
  },
  "orig_nbformat": 4,
  "vscode": {
   "interpreter": {
    "hash": "916dbcbb3f70747c44a77c7bcd40155683ae19c65e1c03b4aa3499c5328201f1"
   }
  }
 },
 "nbformat": 4,
 "nbformat_minor": 2
}
